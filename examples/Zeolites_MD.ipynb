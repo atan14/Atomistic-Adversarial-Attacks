{
 "cells": [
  {
   "cell_type": "markdown",
   "metadata": {},
   "source": [
    "# NNMD of zeolites using the pretrained models\n",
    "\n",
    "In this notebook, we perform a NN-based MD NVE simulation using ASE and the [SchNet NN potential](https://github.com/learningmatter-mit/NeuralForceField). We will be using the second generation of zeolite models, as shown in [our paper](https://arxiv.org/abs/2101.11588).\n",
    "\n",
    "The utilities at `nff` will be used to perform the MD simulation. `nglview` will be used to visualize the generated trajectories."
   ]
  },
  {
   "cell_type": "code",
   "execution_count": 1,
   "metadata": {},
   "outputs": [
    {
     "data": {
      "application/vnd.jupyter.widget-view+json": {
       "model_id": "e13abe43a15d4445bb7aa419b4e90f6d",
       "version_major": 2,
       "version_minor": 0
      },
      "text/plain": []
     },
     "metadata": {},
     "output_type": "display_data"
    }
   ],
   "source": [
    "import os\n",
    "import random\n",
    "import numpy as np\n",
    "from ase import Atoms, units\n",
    "from ase.md.verlet import VelocityVerlet\n",
    "\n",
    "from nff.io import NeuralFF, AtomsBatch, EnsembleNFF\n",
    "from nff.md.nve import Dynamics\n",
    "from nff.data import Dataset\n",
    "import nff.utils.constants as const\n",
    "\n",
    "import nglview as nv\n",
    "from ase.io import Trajectory, read"
   ]
  },
  {
   "cell_type": "markdown",
   "metadata": {},
   "source": [
    "## Loading the models and parameters\n",
    "\n",
    "The dataset contains a PyTorch dataset with all the DFT data used to train the third generation of NN potentials. Here, we will use the pre-trained ensemble. For learning how to train the models using the SchNet architecture and the current dataset, check the tutorials at the original [NFF repo](https://github.com/learningmatter-mit/NeuralForceField)."
   ]
  },
  {
   "cell_type": "code",
   "execution_count": 2,
   "metadata": {},
   "outputs": [],
   "source": [
    "dset = Dataset.from_file('../data/zeolite.pth.tar')"
   ]
  },
  {
   "cell_type": "markdown",
   "metadata": {},
   "source": [
    "`DEVICE` sets the GPU used for evaluating the model. If you want to evaluate on a CPU, set `DEVICE = 'cpu'`. The models are stored at `/models/zeolite`, where `/` is the root folder of this repository."
   ]
  },
  {
   "cell_type": "code",
   "execution_count": 3,
   "metadata": {},
   "outputs": [],
   "source": [
    "DEVICE = 0\n",
    "\n",
    "def get_ensemble_calc(device=DEVICE):\n",
    "    PATH = '../models/zeolite'\n",
    "    models = []\n",
    "    for model_name in sorted(os.listdir(PATH)):\n",
    "        m = NeuralFF.from_file(os.path.join(PATH, model_name), device=device).model\n",
    "        models.append(m)\n",
    "\n",
    "    return EnsembleNFF(models, device=device)\n",
    "\n",
    "ensemble = get_ensemble_calc(device=DEVICE)"
   ]
  },
  {
   "cell_type": "markdown",
   "metadata": {},
   "source": [
    "Here, we set the parameters for the MD simulation. For learning how to use these parameters within our code, check the tutorials at the original [NFF repo](https://github.com/learningmatter-mit/NeuralForceField)."
   ]
  },
  {
   "cell_type": "code",
   "execution_count": 4,
   "metadata": {
    "scrolled": true
   },
   "outputs": [],
   "source": [
    "def get_md_params(traj_filename, temperature=1000):\n",
    "    return {\n",
    "        'T_init': temperature,\n",
    "        'time_step': 0.5,\n",
    "        'thermostat': VelocityVerlet,  \n",
    "        'thermostat_params': {'timestep': 0.5 * units.fs},\n",
    "        'steps': 2 * 2000,\n",
    "        'save_frequency': 40,\n",
    "        'nbr_list_update_freq': 5,\n",
    "        'thermo_filename': 'thermo.log',\n",
    "        'traj_filename': traj_filename,\n",
    "        'skip': 0\n",
    "    }"
   ]
  },
  {
   "cell_type": "markdown",
   "metadata": {},
   "source": [
    "Finally, we use the lowest energy conformation within the existing dataset (i.e. the ground state of ammonia) as a starting configuration for the MD simulation. `AtomsBatch` is a [wrapper within our NFF repo](https://github.com/learningmatter-mit/NeuralForceField/blob/master/nff/io/ase.py) and can be used to interface an ASE atom with NFF."
   ]
  },
  {
   "cell_type": "code",
   "execution_count": 5,
   "metadata": {},
   "outputs": [],
   "source": [
    "CUTOFF = 5.0\n",
    "\n",
    "def get_md_atoms(dset=dset, cutoff=CUTOFF, device=DEVICE):\n",
    "    props = random.choice(dset)\n",
    "\n",
    "    atoms = AtomsBatch(\n",
    "        positions=props['nxyz'][:, 1:],\n",
    "        numbers=props['nxyz'][:, 0],\n",
    "        cell=props['lattice'],\n",
    "        pbc=True,\n",
    "        cutoff=CUTOFF,\n",
    "        props={'energy': 0, 'energy_grad': []},\n",
    "        calculator=ensemble,\n",
    "        device=device,\n",
    "    )\n",
    "    _ = atoms.update_nbr_list()\n",
    "    \n",
    "    return atoms"
   ]
  },
  {
   "cell_type": "markdown",
   "metadata": {},
   "source": [
    "## Performing the MD simulation\n",
    "\n",
    "Now, we perform the MD simulation using the parameters shown before."
   ]
  },
  {
   "cell_type": "code",
   "execution_count": 6,
   "metadata": {
    "scrolled": true
   },
   "outputs": [
    {
     "name": "stderr",
     "output_type": "stream",
     "text": [
      "/home/dskoda/.conda/envs/nff/lib/python3.7/site-packages/ase/md/md.py:48: FutureWarning: Specify the temperature in K using the 'temperature_K' argument\n",
      "  warnings.warn(FutureWarning(w))\n",
      "/home/dskoda/.conda/envs/nff/lib/python3.7/site-packages/ase/atoms.py:968: VisibleDeprecationWarning: Use get_global_number_of_atoms() instead\n",
      "  np.VisibleDeprecationWarning)\n"
     ]
    },
    {
     "name": "stdout",
     "output_type": "stream",
     "text": [
      "Time[ps]      Etot[eV]     Epot[eV]     Ekin[eV]    T[K]\n",
      "0.0000          21.0118      14.0108       7.0010   902.7\n",
      "\n",
      "0.0200          20.8475      18.3280       2.5195   324.9\n",
      "\n",
      "0.0400          21.0118      17.4975       3.5143   453.1\n",
      "\n",
      "0.0600          20.9631      17.7914       3.1717   409.0\n",
      "\n",
      "0.0800          20.9020      16.9618       3.9402   508.0\n",
      "\n",
      "0.1000          20.9914      17.7971       3.1944   411.9\n",
      "\n",
      "0.1200          20.8272      17.3013       3.5259   454.6\n",
      "\n",
      "0.1400          20.7450      17.1150       3.6300   468.1\n",
      "\n",
      "0.1600          21.0548      17.0991       3.9557   510.0\n",
      "\n",
      "0.1800          20.8401      17.5986       3.2415   418.0\n",
      "\n",
      "0.2000          21.1996      17.4275       3.7721   486.4\n",
      "\n",
      "0.2200          21.1101      17.5906       3.5195   453.8\n",
      "\n",
      "0.2400          21.0108      17.6698       3.3409   430.8\n",
      "\n",
      "0.2600          21.0854      17.5215       3.5638   459.5\n",
      "\n",
      "0.2800          20.8050      17.1830       3.6219   467.0\n",
      "\n",
      "0.3000          20.7266      17.6601       3.0665   395.4\n",
      "\n",
      "0.3200          20.6182      17.2105       3.4077   439.4\n",
      "\n",
      "0.3400          20.8312      17.7052       3.1259   403.1\n",
      "\n",
      "0.3600          20.8398      17.3041       3.5357   455.9\n",
      "\n",
      "0.3800          20.7769      17.9457       2.8312   365.1\n",
      "\n",
      "0.4000          20.8328      17.2873       3.5455   457.2\n",
      "\n",
      "0.4200          20.5107      17.2819       3.2288   416.3\n",
      "\n",
      "0.4400          20.5770      17.1609       3.4161   440.5\n",
      "\n",
      "0.4600          20.5711      16.9999       3.5712   460.5\n",
      "\n",
      "0.4800          20.5257      17.3760       3.1497   406.1\n",
      "\n",
      "0.5000          20.6639      17.0127       3.6512   470.8\n",
      "\n",
      "0.5200          20.6643      17.8152       2.8491   367.4\n",
      "\n",
      "0.5400          20.5480      16.9818       3.5662   459.8\n",
      "\n",
      "0.5600          20.4814      17.3470       3.1345   404.2\n",
      "\n",
      "0.5800          20.2453      16.8694       3.3758   435.3\n",
      "\n",
      "0.6000          20.3281      17.6438       2.6843   346.1\n",
      "\n",
      "0.6200          20.3490      16.8382       3.5108   452.7\n",
      "\n",
      "0.6400          20.6413      17.6544       2.9869   385.1\n",
      "\n",
      "0.6600          20.3024      16.7485       3.5539   458.2\n",
      "\n",
      "0.6800          20.4483      17.3146       3.1337   404.1\n",
      "\n",
      "0.7000          20.4916      16.8447       3.6469   470.2\n",
      "\n",
      "0.7200          20.3817      17.5247       2.8570   368.4\n",
      "\n",
      "0.7400          20.0938      16.4384       3.6554   471.3\n",
      "\n",
      "0.7600          19.9972      17.0056       2.9916   385.7\n",
      "\n",
      "0.7800          20.1076      16.6773       3.4302   442.3\n",
      "\n",
      "0.8000          20.4602      17.6657       2.7945   360.3\n",
      "\n",
      "0.8200          20.2909      17.0593       3.2317   416.7\n",
      "\n",
      "0.8400          20.1464      16.9564       3.1900   411.3\n",
      "\n",
      "0.8600          20.1244      16.5285       3.5959   463.7\n",
      "\n",
      "0.8800          20.1087      16.9411       3.1676   408.4\n",
      "\n",
      "0.9000          20.3567      17.3460       3.0107   388.2\n",
      "\n",
      "0.9200          20.1697      16.7979       3.3718   434.8\n",
      "\n",
      "0.9400          20.1516      16.8961       3.2555   419.8\n",
      "\n",
      "0.9600          20.0076      16.9526       3.0550   393.9\n",
      "\n",
      "0.9800          19.9959      16.7139       3.2820   423.2\n",
      "\n",
      "1.0000          20.0968      17.0630       3.0337   391.2\n",
      "\n",
      "1.0200          20.0877      16.5749       3.5128   452.9\n",
      "\n",
      "1.0400          20.0756      17.1726       2.9030   374.3\n",
      "\n",
      "1.0600          20.1091      17.2047       2.9045   374.5\n",
      "\n",
      "1.0800          20.0660      16.5082       3.5578   458.7\n",
      "\n",
      "1.1000          19.9692      17.0040       2.9652   382.3\n",
      "\n",
      "1.1200          20.0679      16.8428       3.2251   415.8\n",
      "\n",
      "1.1400          19.9545      17.2077       2.7468   354.2\n",
      "\n",
      "1.1600          19.9846      16.7895       3.1950   412.0\n",
      "\n",
      "1.1800          19.9071      16.5854       3.3217   428.3\n",
      "\n",
      "1.2000          19.9471      16.6286       3.3185   427.9\n",
      "\n",
      "1.2200          20.0510      16.9611       3.0898   398.4\n",
      "\n",
      "1.2400          20.0692      16.8014       3.2678   421.3\n",
      "\n",
      "1.2600          19.6899      16.6061       3.0838   397.6\n",
      "\n",
      "1.2800          19.6192      16.6674       2.9518   380.6\n",
      "\n",
      "1.3000          19.7873      16.9896       2.7977   360.7\n",
      "\n",
      "1.3200          19.9733      16.8290       3.1443   405.4\n",
      "\n",
      "1.3400          19.6559      16.7157       2.9402   379.1\n",
      "\n",
      "1.3600          19.6316      16.3688       3.2628   420.7\n",
      "\n",
      "1.3800          20.0191      16.8572       3.1619   407.7\n",
      "\n",
      "1.4000          20.0058      16.7874       3.2184   415.0\n",
      "\n",
      "1.4200          19.9510      16.8210       3.1300   403.6\n",
      "\n",
      "1.4400          20.0144      16.8543       3.1601   407.5\n",
      "\n",
      "1.4600          20.0949      16.9155       3.1794   410.0\n",
      "\n",
      "1.4800          20.2976      17.7924       2.5052   323.0\n",
      "\n",
      "1.5000          20.2219      17.1178       3.1041   400.2\n",
      "\n",
      "1.5200          19.7777      16.4397       3.3380   430.4\n",
      "\n",
      "1.5400          19.9205      16.9279       2.9926   385.9\n",
      "\n",
      "1.5600          19.9143      16.6615       3.2528   419.4\n",
      "\n",
      "1.5800          19.7927      16.5177       3.2749   422.3\n",
      "\n",
      "1.6000          19.8937      16.9568       2.9369   378.7\n",
      "\n",
      "1.6200          19.9350      17.0123       2.9227   376.8\n",
      "\n",
      "1.6400          19.6767      16.6687       3.0080   387.8\n",
      "\n",
      "1.6600          19.6053      17.0409       2.5644   330.7\n",
      "\n",
      "1.6800          19.7931      16.9592       2.8338   365.4\n",
      "\n",
      "1.7000          19.5585      16.2869       3.2716   421.8\n",
      "\n",
      "1.7200          19.5822      16.4846       3.0976   399.4\n",
      "\n",
      "1.7400          19.9100      16.7904       3.1196   402.2\n",
      "\n",
      "1.7600          19.8625      16.6910       3.1715   408.9\n",
      "\n",
      "1.7800          19.8277      16.2584       3.5693   460.2\n",
      "\n",
      "1.8000          20.0966      17.2158       2.8808   371.4\n",
      "\n",
      "1.8200          19.7323      17.1393       2.5930   334.3\n",
      "\n",
      "1.8400          19.8115      16.8393       2.9722   383.2\n",
      "\n",
      "1.8600          20.2970      17.4292       2.8678   369.8\n",
      "\n",
      "1.8800          20.1769      17.1870       2.9900   385.5\n",
      "\n",
      "1.9000          19.7114      16.4683       3.2431   418.2\n",
      "\n",
      "1.9200          19.5339      16.3417       3.1921   411.6\n",
      "\n",
      "1.9400          19.6687      16.4995       3.1692   408.6\n",
      "\n",
      "1.9600          19.5855      16.9270       2.6585   342.8\n",
      "\n",
      "1.9800          19.3188      16.6422       2.6765   345.1\n",
      "\n",
      "2.0000          19.4335      16.4522       2.9813   384.4\n",
      "\n"
     ]
    }
   ],
   "source": [
    "TEMPERATURE = 1000\n",
    "\n",
    "name = f'NVE_{TEMPERATURE}.traj'\n",
    "\n",
    "atoms = get_md_atoms()\n",
    "md_params = get_md_params(name, TEMPERATURE)\n",
    "dyn = Dynamics(atoms, md_params)\n",
    "traj = dyn.run()"
   ]
  },
  {
   "cell_type": "markdown",
   "metadata": {},
   "source": [
    "## Visualizing the trajectory\n",
    "\n",
    "Now we visualize the generated trajectory. The translation makes it easier to see the dynamics of the host within `nglview`."
   ]
  },
  {
   "cell_type": "code",
   "execution_count": 7,
   "metadata": {
    "scrolled": true
   },
   "outputs": [],
   "source": [
    "filetraj = Trajectory(name)\n",
    "\n",
    "newtraj = []\n",
    "for at in filetraj:\n",
    "    at.translate(at.cell.sum(0) * np.array([0.5, 0.5, 0.5]))\n",
    "    at.wrap()\n",
    "    newtraj.append(at)"
   ]
  },
  {
   "cell_type": "code",
   "execution_count": 8,
   "metadata": {},
   "outputs": [
    {
     "data": {
      "application/vnd.jupyter.widget-view+json": {
       "model_id": "a96d7eff80324212a05c0ea2bf6b7210",
       "version_major": 2,
       "version_minor": 0
      },
      "text/plain": [
       "NGLWidget(max_frame=100)"
      ]
     },
     "metadata": {},
     "output_type": "display_data"
    }
   ],
   "source": [
    "view = nv.show_asetraj(newtraj)\n",
    "view.add_unitcell()\n",
    "\n",
    "view"
   ]
  },
  {
   "cell_type": "code",
   "execution_count": null,
   "metadata": {},
   "outputs": [],
   "source": []
  }
 ],
 "metadata": {
  "kernelspec": {
   "display_name": "nff",
   "language": "python",
   "name": "nff"
  },
  "language_info": {
   "codemirror_mode": {
    "name": "ipython",
    "version": 3
   },
   "file_extension": ".py",
   "mimetype": "text/x-python",
   "name": "python",
   "nbconvert_exporter": "python",
   "pygments_lexer": "ipython3",
   "version": "3.7.10"
  }
 },
 "nbformat": 4,
 "nbformat_minor": 2
}
