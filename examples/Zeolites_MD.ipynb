{
 "cells": [
  {
   "cell_type": "markdown",
   "metadata": {},
   "source": [
    "# NNMD of zeolites using the pretrained models\n",
    "\n",
    "In this notebook, we perform a NN-based MD NVE simulation using ASE and the [SchNet NN potential](https://github.com/learningmatter-mit/NeuralForceField). We will be using the second generation of zeolite models, as shown in [our paper](https://arxiv.org/abs/2101.11588).\n",
    "\n",
    "The utilities at `nff` will be used to perform the MD simulation. `nglview` will be used to visualize the generated trajectories."
   ]
  },
  {
   "cell_type": "code",
   "execution_count": 5,
   "metadata": {},
   "outputs": [],
   "source": [
    "import os\n",
    "import random\n",
    "import numpy as np\n",
    "from ase import Atoms, units\n",
    "from ase.md.verlet import VelocityVerlet\n",
    "\n",
    "from nff.io import NeuralFF, AtomsBatch, EnsembleNFF\n",
    "from nff.md.nve import Dynamics\n",
    "from nff.data import Dataset\n",
    "import nff.utils.constants as const\n",
    "\n",
    "import nglview as nv\n",
    "from ase.io import Trajectory, read"
   ]
  },
  {
   "cell_type": "markdown",
   "metadata": {},
   "source": [
    "## Loading the models and parameters\n",
    "\n",
    "The dataset contains a PyTorch dataset with all the DFT data used to train the third generation of NN potentials. Here, we will use the pre-trained ensemble. For learning how to train the models using the SchNet architecture and the current dataset, check the tutorials at the original [NFF repo](https://github.com/learningmatter-mit/NeuralForceField)."
   ]
  },
  {
   "cell_type": "code",
   "execution_count": 2,
   "metadata": {},
   "outputs": [],
   "source": [
    "dset = Dataset.from_file('../data/zeolite.pth.tar')"
   ]
  },
  {
   "cell_type": "markdown",
   "metadata": {},
   "source": [
    "`DEVICE` sets the GPU used for evaluating the model. If you want to evaluate on a CPU, set `DEVICE = 'cpu'`. The models are stored at `/models/zeolite`, where `/` is the root folder of this repository."
   ]
  },
  {
   "cell_type": "code",
   "execution_count": 3,
   "metadata": {},
   "outputs": [],
   "source": [
    "DEVICE = 0\n",
    "\n",
    "def get_ensemble_calc(device=DEVICE):\n",
    "    PATH = '../models/zeolite'\n",
    "    models = []\n",
    "    for model_name in sorted(os.listdir(PATH)):\n",
    "        m = NeuralFF.from_file(os.path.join(PATH, model_name), device=device).model\n",
    "        models.append(m)\n",
    "\n",
    "    return EnsembleNFF(models, device=device)\n",
    "\n",
    "ensemble = get_ensemble_calc(device=DEVICE)"
   ]
  },
  {
   "cell_type": "markdown",
   "metadata": {},
   "source": [
    "Here, we set the parameters for the MD simulation. For learning how to use these parameters within our code, check the tutorials at the original [NFF repo](https://github.com/learningmatter-mit/NeuralForceField)."
   ]
  },
  {
   "cell_type": "code",
   "execution_count": 33,
   "metadata": {
    "scrolled": true
   },
   "outputs": [],
   "source": [
    "def get_md_params(traj_filename, temperature=1000):\n",
    "    return {\n",
    "        'T_init': temperature,\n",
    "        'time_step': 0.5,\n",
    "        'thermostat': VelocityVerlet,  \n",
    "        'thermostat_params': {'timestep': 0.5 * units.fs},\n",
    "        'steps': 2 * 2000,\n",
    "        'save_frequency': 40,\n",
    "        'nbr_list_update_freq': 5,\n",
    "        'thermo_filename': 'thermo.log',\n",
    "        'traj_filename': traj_filename,\n",
    "        'skip': 0\n",
    "    }"
   ]
  },
  {
   "cell_type": "markdown",
   "metadata": {},
   "source": [
    "Finally, we use the lowest energy conformation within the existing dataset (i.e. the ground state of ammonia) as a starting configuration for the MD simulation. `AtomsBatch` is a [wrapper within our NFF repo](https://github.com/learningmatter-mit/NeuralForceField/blob/master/nff/io/ase.py) and can be used to interface an ASE atom with NFF."
   ]
  },
  {
   "cell_type": "code",
   "execution_count": 34,
   "metadata": {},
   "outputs": [],
   "source": [
    "CUTOFF = 5.0\n",
    "\n",
    "def get_md_atoms(dset=dset, cutoff=CUTOFF, device=DEVICE):\n",
    "    props = random.choice(dset)\n",
    "\n",
    "    atoms = AtomsBatch(\n",
    "        positions=props['nxyz'][:, 1:],\n",
    "        numbers=props['nxyz'][:, 0],\n",
    "        cell=props['lattice'],\n",
    "        pbc=True,\n",
    "        cutoff=CUTOFF,\n",
    "        props={'energy': 0, 'energy_grad': []},\n",
    "        calculator=ensemble,\n",
    "        device=device,\n",
    "    )\n",
    "    _ = atoms.update_nbr_list()\n",
    "    \n",
    "    return atoms"
   ]
  },
  {
   "cell_type": "markdown",
   "metadata": {},
   "source": [
    "## Performing the MD simulation\n",
    "\n",
    "Now, we perform the MD simulation using the parameters shown before."
   ]
  },
  {
   "cell_type": "code",
   "execution_count": 35,
   "metadata": {
    "scrolled": true
   },
   "outputs": [
    {
     "name": "stdout",
     "output_type": "stream",
     "text": [
      "Time[ps]      Etot[eV]     Epot[eV]     Ekin[eV]    T[K]\n",
      "0.0000          21.1169       8.8837      12.2331   985.8\n",
      "\n"
     ]
    },
    {
     "name": "stderr",
     "output_type": "stream",
     "text": [
      "/home/dskoda/.conda/envs/htvs/lib/python3.7/site-packages/ase/atoms.py:921: VisibleDeprecationWarning: Use get_global_number_of_atoms() instead\n",
      "  np.VisibleDeprecationWarning)\n"
     ]
    },
    {
     "name": "stdout",
     "output_type": "stream",
     "text": [
      "0.0200          20.7332      15.2592       5.4740   441.1\n",
      "\n",
      "0.0400          20.5154      14.0231       6.4922   523.2\n",
      "\n",
      "0.0600          20.6042      14.9808       5.6234   453.2\n",
      "\n",
      "0.0800          20.4597      14.3222       6.1376   494.6\n",
      "\n",
      "0.1000          20.5443      14.8327       5.7116   460.3\n",
      "\n",
      "0.1200          20.2442      13.8381       6.4061   516.2\n",
      "\n",
      "0.1400          20.3231      13.9752       6.3479   511.6\n",
      "\n",
      "0.1600          20.0918      13.5825       6.5093   524.6\n",
      "\n",
      "0.1800          20.1833      13.2984       6.8849   554.8\n",
      "\n",
      "0.2000          20.2072      13.9056       6.3016   507.8\n",
      "\n",
      "0.2200          20.2334      13.6448       6.5886   531.0\n",
      "\n",
      "0.2400          20.2066      13.7613       6.4453   519.4\n",
      "\n",
      "0.2600          20.1913      14.3460       5.8453   471.1\n",
      "\n",
      "0.2800          20.2195      13.6512       6.5683   529.3\n",
      "\n",
      "0.3000          20.2175      14.6771       5.5404   446.5\n",
      "\n",
      "0.3200          20.1315      14.1899       5.9416   478.8\n",
      "\n",
      "0.3400          19.9676      13.5944       6.3732   513.6\n",
      "\n",
      "0.3600          19.9684      14.0294       5.9390   478.6\n",
      "\n",
      "0.3800          19.4069      13.3537       6.0532   487.8\n",
      "\n",
      "0.4000          19.2125      13.0881       6.1244   493.5\n",
      "\n",
      "0.4200          19.3762      12.9791       6.3971   515.5\n",
      "\n",
      "0.4400          19.5286      13.3835       6.1451   495.2\n",
      "\n",
      "0.4600          19.5444      13.4233       6.1211   493.3\n",
      "\n",
      "0.4800          19.4468      13.7811       5.6657   456.6\n",
      "\n",
      "0.5000          19.6564      13.2777       6.3786   514.0\n",
      "\n",
      "0.5200          19.5795      13.1132       6.4663   521.1\n",
      "\n",
      "0.5400          19.7339      13.7861       5.9477   479.3\n",
      "\n",
      "0.5600          19.4490      13.2787       6.1702   497.2\n",
      "\n",
      "0.5800          19.5113      13.4506       6.0607   488.4\n",
      "\n",
      "0.6000          19.3686      13.1914       6.1772   497.8\n",
      "\n",
      "0.6200          19.1567      13.1105       6.0463   487.2\n",
      "\n",
      "0.6400          19.2608      13.3128       5.9480   479.3\n",
      "\n",
      "0.6600          19.2120      13.6068       5.6053   451.7\n",
      "\n",
      "0.6800          19.0991      12.7974       6.3017   507.8\n",
      "\n",
      "0.7000          18.9822      12.8520       6.1302   494.0\n",
      "\n",
      "0.7200          18.8516      12.8539       5.9978   483.3\n",
      "\n",
      "0.7400          18.9287      12.6783       6.2505   503.7\n",
      "\n",
      "0.7600          18.9240      13.5851       5.3389   430.2\n",
      "\n",
      "0.7800          18.8879      13.2087       5.6792   457.7\n",
      "\n",
      "0.8000          19.0105      13.0877       5.9228   477.3\n",
      "\n",
      "0.8200          18.9819      13.9811       5.0009   403.0\n",
      "\n",
      "0.8400          18.5978      12.5623       6.0355   486.4\n",
      "\n",
      "0.8600          18.5655      12.5464       6.0191   485.1\n",
      "\n",
      "0.8800          18.5894      12.5244       6.0650   488.8\n",
      "\n",
      "0.9000          18.9288      13.0378       5.8910   474.7\n",
      "\n",
      "0.9200          19.1645      13.8221       5.3424   430.5\n",
      "\n",
      "0.9400          18.9705      13.2224       5.7481   463.2\n",
      "\n",
      "0.9600          18.7002      12.9789       5.7213   461.1\n",
      "\n",
      "0.9800          18.9562      13.1461       5.8101   468.2\n",
      "\n",
      "1.0000          18.8800      13.6097       5.2703   424.7\n",
      "\n",
      "1.0200          18.7966      12.1465       6.6501   535.9\n",
      "\n",
      "1.0400          18.9288      13.1015       5.8273   469.6\n",
      "\n",
      "1.0600          18.9481      13.7786       5.1695   416.6\n",
      "\n",
      "1.0800          18.8997      12.6744       6.2253   501.7\n",
      "\n",
      "1.1000          19.0129      13.1787       5.8341   470.2\n",
      "\n",
      "1.1200          18.8539      12.7510       6.1028   491.8\n",
      "\n",
      "1.1400          18.8629      13.6896       5.1733   416.9\n",
      "\n",
      "1.1600          18.7502      12.8524       5.8978   475.3\n",
      "\n",
      "1.1800          18.6950      12.7312       5.9638   480.6\n",
      "\n",
      "1.2000          18.6201      13.0729       5.5472   447.0\n",
      "\n",
      "1.2200          18.6331      12.7910       5.8420   470.8\n",
      "\n",
      "1.2400          18.7485      13.4418       5.3067   427.7\n",
      "\n",
      "1.2600          18.9519      12.8868       6.0651   488.8\n",
      "\n",
      "1.2800          18.6899      12.6446       6.0454   487.2\n",
      "\n",
      "1.3000          18.8856      13.1909       5.6947   458.9\n",
      "\n",
      "1.3200          18.6594      12.9646       5.6948   458.9\n",
      "\n",
      "1.3400          18.5831      12.6586       5.9245   477.4\n",
      "\n",
      "1.3600          18.6738      12.3824       6.2915   507.0\n",
      "\n",
      "1.3800          18.7521      13.3309       5.4212   436.9\n",
      "\n",
      "1.4000          18.6078      13.9918       4.6160   372.0\n",
      "\n",
      "1.4200          18.6972      12.8915       5.8057   467.9\n",
      "\n",
      "1.4400          18.5167      12.2150       6.3017   507.8\n",
      "\n",
      "1.4600          18.8337      13.6588       5.1749   417.0\n",
      "\n",
      "1.4800          18.6564      12.2622       6.3942   515.3\n",
      "\n",
      "1.5000          18.8832      12.4825       6.4007   515.8\n",
      "\n",
      "1.5200          18.9622      13.0312       5.9310   478.0\n",
      "\n",
      "1.5400          19.1452      14.0256       5.1196   412.6\n",
      "\n",
      "1.5600          19.1054      13.6429       5.4626   440.2\n",
      "\n",
      "1.5800          18.7226      12.6895       6.0331   486.2\n",
      "\n",
      "1.6000          18.8372      13.2214       5.6158   452.6\n",
      "\n",
      "1.6200          18.6466      12.7624       5.8842   474.2\n",
      "\n",
      "1.6400          18.7249      13.0732       5.6517   455.5\n",
      "\n",
      "1.6600          18.5248      12.1505       6.3743   513.7\n",
      "\n",
      "1.6800          18.6622      12.2154       6.4468   519.5\n",
      "\n",
      "1.7000          18.6939      13.0228       5.6711   457.0\n",
      "\n",
      "1.7200          18.7371      13.5958       5.1412   414.3\n",
      "\n",
      "1.7400          18.5438      12.7911       5.7528   463.6\n",
      "\n",
      "1.7600          18.8632      13.5880       5.2753   425.1\n",
      "\n",
      "1.7800          19.1508      13.3333       5.8175   468.8\n",
      "\n",
      "1.8000          18.8545      13.2474       5.6071   451.9\n",
      "\n",
      "1.8200          18.6441      12.6110       6.0331   486.2\n",
      "\n",
      "1.8400          18.4785      13.0586       5.4199   436.8\n",
      "\n",
      "1.8600          18.3679      13.0855       5.2824   425.7\n",
      "\n",
      "1.8800          18.4837      12.4172       6.0665   488.9\n",
      "\n",
      "1.9000          18.3919      12.1228       6.2691   505.2\n",
      "\n",
      "1.9200          18.4292      12.7296       5.6996   459.3\n",
      "\n",
      "1.9400          18.2801      12.9708       5.3092   427.9\n",
      "\n",
      "1.9600          18.4337      12.8627       5.5710   449.0\n",
      "\n",
      "1.9800          18.6425      13.6516       4.9909   402.2\n",
      "\n",
      "2.0000          18.6198      12.5729       6.0469   487.3\n",
      "\n"
     ]
    }
   ],
   "source": [
    "TEMPERATURE = 1000\n",
    "\n",
    "name = f'NVE_{TEMPERATURE}.traj'\n",
    "\n",
    "atoms = get_md_atoms()\n",
    "md_params = get_md_params(name, TEMPERATURE)\n",
    "dyn = Dynamics(atoms, md_params)\n",
    "traj = dyn.run()"
   ]
  },
  {
   "cell_type": "markdown",
   "metadata": {},
   "source": [
    "## Visualizing the trajectory\n",
    "\n",
    "Now we visualize the generated trajectory. The translation makes it easier to see the dynamics of the host within `nglview`."
   ]
  },
  {
   "cell_type": "code",
   "execution_count": 36,
   "metadata": {
    "scrolled": true
   },
   "outputs": [],
   "source": [
    "filetraj = Trajectory(name)\n",
    "\n",
    "newtraj = []\n",
    "for at in filetraj:\n",
    "    at.translate(at.cell.sum(0) * np.array([0.5, 0.5, 0.5]))\n",
    "    at.wrap()\n",
    "    newtraj.append(at)"
   ]
  },
  {
   "cell_type": "code",
   "execution_count": 37,
   "metadata": {},
   "outputs": [
    {
     "data": {
      "application/vnd.jupyter.widget-view+json": {
       "model_id": "0403497a5b4e460780a70e7fab059674",
       "version_major": 2,
       "version_minor": 0
      },
      "text/plain": [
       "NGLWidget(max_frame=100)"
      ]
     },
     "metadata": {},
     "output_type": "display_data"
    }
   ],
   "source": [
    "view = nv.show_asetraj(newtraj)\n",
    "view.add_unitcell()\n",
    "\n",
    "view"
   ]
  },
  {
   "cell_type": "code",
   "execution_count": null,
   "metadata": {},
   "outputs": [],
   "source": []
  }
 ],
 "metadata": {
  "kernelspec": {
   "display_name": "htvs",
   "language": "python",
   "name": "htvs"
  },
  "language_info": {
   "codemirror_mode": {
    "name": "ipython",
    "version": 3
   },
   "file_extension": ".py",
   "mimetype": "text/x-python",
   "name": "python",
   "nbconvert_exporter": "python",
   "pygments_lexer": "ipython3",
   "version": "3.7.8"
  }
 },
 "nbformat": 4,
 "nbformat_minor": 2
}
