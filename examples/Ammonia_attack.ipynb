{
 "cells": [
  {
   "cell_type": "markdown",
   "metadata": {},
   "source": [
    "# Adversarial attacks on ammonia using the pretrained models\n",
    "\n",
    "In this notebook, we perform an adversarial attack on zeolites using the [SchNet NN potential](https://github.com/learningmatter-mit/NeuralForceField). We will be using the third generation of ammonia models, as shown in [our paper](https://arxiv.org/abs/2101.11588).\n",
    "\n",
    "The utilities at `nff` will be used to perform the energy/force predictions. `nglview` will be used to visualize the generated trajectories. A few utility functions from this repo, `robust`, will be used as well. For the sake of generality, all steps for performing the adversarial attack are shown in this notebook."
   ]
  },
  {
   "cell_type": "code",
   "execution_count": 1,
   "metadata": {},
   "outputs": [
    {
     "data": {
      "application/vnd.jupyter.widget-view+json": {
       "model_id": "583a24f27b2e4e62a5459c854b08337f",
       "version_major": 2,
       "version_minor": 0
      },
      "text/plain": []
     },
     "metadata": {},
     "output_type": "display_data"
    }
   ],
   "source": [
    "import os\n",
    "import sys\n",
    "sys.path.append('..')\n",
    "\n",
    "import robust as rb\n",
    "import torch as ch\n",
    "import numpy as np\n",
    "import pandas as pd\n",
    "\n",
    "import matplotlib.pyplot as plt\n",
    "\n",
    "from nff.io import NeuralFF, AtomsBatch, EnsembleNFF\n",
    "from nff.data import Dataset\n",
    "from nff.train import load_model\n",
    "\n",
    "from ase.io import Trajectory, read\n",
    "\n",
    "import nglview as nv"
   ]
  },
  {
   "cell_type": "markdown",
   "metadata": {},
   "source": [
    "## Loading the dataset, models and initial geometry"
   ]
  },
  {
   "cell_type": "code",
   "execution_count": 2,
   "metadata": {},
   "outputs": [],
   "source": [
    "DEVICE = 2\n",
    "\n",
    "dset = Dataset.from_file('../data/ammonia.pth.tar')\n",
    "\n",
    "PATH = '../models/ammonia'\n",
    "models = []\n",
    "for model_name in sorted(os.listdir(PATH)):\n",
    "    m = NeuralFF.from_file(os.path.join(PATH, model_name), device=DEVICE).model\n",
    "    models.append(m)\n",
    "\n",
    "ensemble = EnsembleNFF(models, device=DEVICE)"
   ]
  },
  {
   "cell_type": "code",
   "execution_count": 20,
   "metadata": {},
   "outputs": [],
   "source": [
    "CUTOFF = 5\n",
    "\n",
    "def get_atoms(props):\n",
    "    atoms = AtomsBatch(\n",
    "        positions=props['nxyz'][:, 1:],\n",
    "        numbers=props['nxyz'][:, 0],\n",
    "        cutoff=CUTOFF,\n",
    "        props={'energy': 0, 'energy_grad': []},\n",
    "        calculator=ensemble,\n",
    "        nbr_torch=False,\n",
    "        device=DEVICE,\n",
    "    )\n",
    "    _ = atoms.update_nbr_list()\n",
    "    \n",
    "    return atoms\n",
    "\n",
    "initial = get_atoms(dset[np.argmin(dset.props['energy'])])"
   ]
  },
  {
   "cell_type": "markdown",
   "metadata": {},
   "source": [
    "## Defining the adversarial attack\n",
    "\n",
    "The `Attacker` class allows one to perform an adversarial attack using an ensemble of SchNet models."
   ]
  },
  {
   "cell_type": "code",
   "execution_count": 4,
   "metadata": {},
   "outputs": [
    {
     "name": "stderr",
     "output_type": "stream",
     "text": [
      "../robust/data.py:76: UserWarning: To copy construct from a tensor, it is recommended to use sourceTensor.clone().detach() or sourceTensor.clone().detach().requires_grad_(True), rather than torch.tensor(sourceTensor).\n",
      "  return ch.tensor(tensor).reshape(len(tensor), -1)\n",
      "../robust/data.py:77: UserWarning: To copy construct from a tensor, it is recommended to use sourceTensor.clone().detach() or sourceTensor.clone().detach().requires_grad_(True), rather than torch.tensor(sourceTensor).\n",
      "  return ch.tensor(tensor)\n"
     ]
    }
   ],
   "source": [
    "energy_dset = rb.PotentialDataset(\n",
    "    ch.zeros_like(dset.props['energy']),\n",
    "    dset.props['energy'],\n",
    "    ch.zeros_like(dset.props['energy']),\n",
    ")\n",
    "\n",
    "loss_fn = rb.loss.AdvLoss(\n",
    "    train=energy_dset,\n",
    "    temperature=20,\n",
    ")"
   ]
  },
  {
   "cell_type": "code",
   "execution_count": 5,
   "metadata": {},
   "outputs": [],
   "source": [
    "attacker = rb.schnet.Attacker(\n",
    "    initial,\n",
    "    ensemble,\n",
    "    loss_fn,\n",
    "    device=DEVICE,\n",
    ")"
   ]
  },
  {
   "cell_type": "code",
   "execution_count": 15,
   "metadata": {},
   "outputs": [
    {
     "name": "stderr",
     "output_type": "stream",
     "text": [
      "100%|██████████| 60/60 [00:07<00:00,  7.76it/s]\n"
     ]
    }
   ],
   "source": [
    "results = attacker.attack()"
   ]
  },
  {
   "cell_type": "markdown",
   "metadata": {},
   "source": [
    "## Post-processing the results: visualizing and plotting\n",
    "\n",
    "After the adversarial attack is performed, we can now visualize it and post-process the results. We start by recalculating the variance in forces and energies."
   ]
  },
  {
   "cell_type": "code",
   "execution_count": 16,
   "metadata": {},
   "outputs": [],
   "source": [
    "df = pd.DataFrame(results)\n",
    "df['forces_var'] = [f.var(-1).mean() for f in df['forces']]\n",
    "df['energy_var'] = [e.var() for e in df['energy']]\n",
    "df['energy_avg'] = [e.mean() for e in df['energy']]"
   ]
  },
  {
   "cell_type": "markdown",
   "metadata": {},
   "source": [
    "Then, we reconstruct the trajectory of the adversarial attack using the values of `delta` along the attack."
   ]
  },
  {
   "cell_type": "code",
   "execution_count": 17,
   "metadata": {},
   "outputs": [],
   "source": [
    "newatoms = []\n",
    "for transl in df.delta:\n",
    "    at = initial.copy()\n",
    "    at.translate(transl)\n",
    "    newatoms.append(at)"
   ]
  },
  {
   "cell_type": "code",
   "execution_count": 18,
   "metadata": {},
   "outputs": [
    {
     "data": {
      "application/vnd.jupyter.widget-view+json": {
       "model_id": "7c54c6d5836e4d4fb905a6a4c089c47a",
       "version_major": 2,
       "version_minor": 0
      },
      "text/plain": [
       "NGLWidget(max_frame=59)"
      ]
     },
     "metadata": {},
     "output_type": "display_data"
    }
   ],
   "source": [
    "view = nv.show_asetraj(newatoms)\n",
    "view.add_unitcell()\n",
    "\n",
    "view"
   ]
  },
  {
   "cell_type": "markdown",
   "metadata": {},
   "source": [
    "Finally, we can plot the trajectory of the adversarial attack based on the sampled properties shown before (see Fig. S10 of the paper). Notice how the geometry that maximizes the adversarial loss is not necessarily the one with highest energy."
   ]
  },
  {
   "cell_type": "code",
   "execution_count": 19,
   "metadata": {},
   "outputs": [
    {
     "data": {
      "image/png": "[encoded data removed]",
      "text/plain": [
       "<Figure size 288x360 with 2 Axes>"
      ]
     },
     "metadata": {
      "needs_background": "light"
     },
     "output_type": "display_data"
    }
   ],
   "source": [
    "fig, ax = plt.subplots(figsize=(4, 5))\n",
    "ax.spines['right'].set_visible(True)\n",
    "\n",
    "ax.plot(-df.loss, color='k')\n",
    "\n",
    "ax.set_ylabel('Adversarial Loss')\n",
    "\n",
    "COLOR_TAX = '#d62728'\n",
    "tax = ax.twinx()\n",
    "tax.plot(df.energy_avg, color=COLOR_TAX)\n",
    "tax.set_yticklabels(\n",
    "    tax.get_yticks(),\n",
    "    color=COLOR_TAX\n",
    ")\n",
    "tax.set_ylabel('Mean energy (kcal/mol)', color=COLOR_TAX)\n",
    "\n",
    "ax.set_xlabel('Attack step')\n",
    "\n",
    "plt.show()"
   ]
  },
  {
   "cell_type": "code",
   "execution_count": null,
   "metadata": {},
   "outputs": [],
   "source": []
  }
 ],
 "metadata": {
  "kernelspec": {
   "display_name": "htvs",
   "language": "python",
   "name": "htvs"
  },
  "language_info": {
   "codemirror_mode": {
    "name": "ipython",
    "version": 3
   },
   "file_extension": ".py",
   "mimetype": "text/x-python",
   "name": "python",
   "nbconvert_exporter": "python",
   "pygments_lexer": "ipython3",
   "version": "3.7.8"
  }
 },
 "nbformat": 4,
 "nbformat_minor": 2
}
